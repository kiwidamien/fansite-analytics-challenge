{
 "cells": [
  {
   "cell_type": "markdown",
   "metadata": {},
   "source": [
    "# Profiling parsing datetimes\n",
    "\n",
    "From separate profiling (not included), I found that the most time consuming part was parsing the timestamps. I compiled a short list of the  methods I tried. The output here is not necessary for running this project, but may be useful to someone who updates the project later. We will be using the standard `date_string` copied below, and storing the times taken in the dictionary `results`."
   ]
  },
  {
   "cell_type": "code",
   "execution_count": 209,
   "metadata": {
    "collapsed": true
   },
   "outputs": [],
   "source": [
    "timestamp_string = \"01/Jul/1995:00:00:09 -0400\"\n",
    "results     = []"
   ]
  },
  {
   "cell_type": "markdown",
   "metadata": {},
   "source": [
    "### Method 1: using dateutil.parser\n",
    "\n",
    "This is a flexible parser, but the datestring passed in is not recognized immediately. If we enable fuzzy searches, then it becomes even more forgiving of the format. The downside is that it needs to determine the format on every string. This is a lot of overhead, as the format is the same for the timestamps in the logfile.\n",
    "\n",
    "The code for  `timestampParser` becomes\n",
    "```{python}\n",
    "def timestampParser(ts):\n",
    "    return parse(ts, fuzzy=True)\n",
    "```"
   ]
  },
  {
   "cell_type": "code",
   "execution_count": 210,
   "metadata": {
    "collapsed": false
   },
   "outputs": [
    {
     "name": "stdout",
     "output_type": "stream",
     "text": [
      "1995-07-01 00:00:09-04:00\n"
     ]
    }
   ],
   "source": [
    "# This is an additional download. The parsing is quite flexible, so it can handle a wide range of\n",
    "# formats automatically\n",
    "from dateutil.parser import parse\n",
    "\n",
    "print parse(timestamp_string, fuzzy=True)"
   ]
  },
  {
   "cell_type": "code",
   "execution_count": 211,
   "metadata": {
    "collapsed": false
   },
   "outputs": [
    {
     "name": "stdout",
     "output_type": "stream",
     "text": [
      "1000 loops, best of 3: 299 µs per loop\n"
     ]
    }
   ],
   "source": [
    "# For some reason, assigning directly to results['dateutil.parser'] fails\n",
    "temp = %timeit -o parse(timestamp_string, fuzzy=True)\n",
    "results.append(['dateutil.parser raw',temp])"
   ]
  },
  {
   "cell_type": "markdown",
   "metadata": {
    "collapsed": false
   },
   "source": [
    "### Method 2: using dateutil.parser with manual preprocessing\n",
    "\n",
    "The dateutil.parser was confused by two things: the timezone and the date:time format. By doing a little preprocessing on the string, we can eliminate the  need for a fuzzy search. The date takes the first 11 characters, and the ` -0400` takes the last six characters. \n",
    "\n",
    "Our code is \n",
    "```{python}\n",
    "def timestampParser(ts):\n",
    "    return parse(timestamp_string[:11] + \" \" + timestamp_string[12:])\n",
    "```"
   ]
  },
  {
   "cell_type": "code",
   "execution_count": 212,
   "metadata": {
    "collapsed": false
   },
   "outputs": [
    {
     "name": "stdout",
     "output_type": "stream",
     "text": [
      "1995-07-01 00:00:09-04:00\n"
     ]
    }
   ],
   "source": [
    "print parse(timestamp_string[:11] + \" \" + timestamp_string[12:])"
   ]
  },
  {
   "cell_type": "code",
   "execution_count": 213,
   "metadata": {
    "collapsed": false
   },
   "outputs": [
    {
     "name": "stdout",
     "output_type": "stream",
     "text": [
      "1000 loops, best of 3: 283 µs per loop\n"
     ]
    }
   ],
   "source": [
    "temp = %timeit -o parse(timestamp_string[:11] + \" \" + timestamp_string[12:])\n",
    "results.append(['dateutil.parser preprocessed',temp])"
   ]
  },
  {
   "cell_type": "markdown",
   "metadata": {},
   "source": [
    "### Method 3: using strptime\n",
    "\n",
    "This method requires a format string to decipher the timestamp string. This means that it is more fragile, but it does not have to  determine the format on every pass. Unlike `dateutil` which is a common, but not base, package the `datetime` package is standard on all python distributions I have encountered. I also strip the timezone from the timestamp before processing."
   ]
  },
  {
   "cell_type": "code",
   "execution_count": 214,
   "metadata": {
    "collapsed": false
   },
   "outputs": [
    {
     "name": "stdout",
     "output_type": "stream",
     "text": [
      "1995-07-01 00:00:09\n"
     ]
    }
   ],
   "source": [
    "import datetime\n",
    "print datetime.datetime.strptime(timestamp_string[:-6], \"%d/%b/%Y:%H:%M:%S\")"
   ]
  },
  {
   "cell_type": "code",
   "execution_count": 215,
   "metadata": {
    "collapsed": false
   },
   "outputs": [
    {
     "name": "stdout",
     "output_type": "stream",
     "text": [
      "10000 loops, best of 3: 31.7 µs per loop\n"
     ]
    }
   ],
   "source": [
    "temp = %timeit -o datetime.datetime.strptime(timestamp_string[:-6], \"%d/%b/%Y:%H:%M:%S\")\n",
    "results.append(['strptime', temp])"
   ]
  },
  {
   "cell_type": "markdown",
   "metadata": {},
   "source": [
    "### Method 4: manually constructing the datetime object\n",
    "\n",
    "This is the most fragile command. I preconstruct a list of months, and manually split the date and do the conversions. When looking at the actual code of `timestampParser` note that this fragile method is wrapped in a `try/except` block, and falls through to the more robust strptime if an exception is raised."
   ]
  },
  {
   "cell_type": "code",
   "execution_count": 216,
   "metadata": {
    "collapsed": false
   },
   "outputs": [
    {
     "name": "stdout",
     "output_type": "stream",
     "text": [
      "1995-07-01 00:00:09\n"
     ]
    }
   ],
   "source": [
    "months = {'Jan':1, 'Feb':2, 'Mar':3, 'Apr':4, 'May':5,'Jun':6,'Jul':7,'Aug':8,'Sep':9,'Oct':10,'Nov':11,'Dec':12}\n",
    "\n",
    "def manualParse(ts):\n",
    "    date,hh,mm,ss = ts[:-6].split(':')\n",
    "    D,M,Y = date.split('/')\n",
    "    D,Y,hh,mm,ss = map(int, [D,Y,hh,mm,ss])\n",
    "    M = months[M]\n",
    "    return datetime.datetime(Y,M,D,hh,mm,ss)\n",
    "\n",
    "print manualParse(timestamp_string)"
   ]
  },
  {
   "cell_type": "code",
   "execution_count": 217,
   "metadata": {
    "collapsed": false
   },
   "outputs": [
    {
     "name": "stdout",
     "output_type": "stream",
     "text": [
      "100000 loops, best of 3: 8.65 µs per loop\n"
     ]
    }
   ],
   "source": [
    "temp = %timeit -o manualParse(timestamp_string)\n",
    "results.append(['manual', temp])"
   ]
  },
  {
   "cell_type": "markdown",
   "metadata": {
    "collapsed": false
   },
   "source": [
    "## Summary"
   ]
  },
  {
   "cell_type": "code",
   "execution_count": 218,
   "metadata": {
    "collapsed": false
   },
   "outputs": [
    {
     "data": {
      "text/html": [
       "<div>\n",
       "<table border=\"1\" class=\"dataframe\">\n",
       "  <thead>\n",
       "    <tr style=\"text-align: right;\">\n",
       "      <th></th>\n",
       "      <th>Method</th>\n",
       "      <th>time (microsec)</th>\n",
       "      <th>num trials</th>\n",
       "    </tr>\n",
       "  </thead>\n",
       "  <tbody>\n",
       "    <tr>\n",
       "      <th>3</th>\n",
       "      <td>manual</td>\n",
       "      <td>9.0</td>\n",
       "      <td>100000</td>\n",
       "    </tr>\n",
       "    <tr>\n",
       "      <th>2</th>\n",
       "      <td>strptime</td>\n",
       "      <td>32.0</td>\n",
       "      <td>10000</td>\n",
       "    </tr>\n",
       "    <tr>\n",
       "      <th>1</th>\n",
       "      <td>dateutil.parser preprocessed</td>\n",
       "      <td>283.0</td>\n",
       "      <td>1000</td>\n",
       "    </tr>\n",
       "    <tr>\n",
       "      <th>0</th>\n",
       "      <td>dateutil.parser raw</td>\n",
       "      <td>299.0</td>\n",
       "      <td>1000</td>\n",
       "    </tr>\n",
       "  </tbody>\n",
       "</table>\n",
       "</div>"
      ],
      "text/plain": [
       "                         Method  time (microsec)  num trials\n",
       "3                        manual              9.0      100000\n",
       "2                      strptime             32.0       10000\n",
       "1  dateutil.parser preprocessed            283.0        1000\n",
       "0           dateutil.parser raw            299.0        1000"
      ]
     },
     "execution_count": 218,
     "metadata": {},
     "output_type": "execute_result"
    }
   ],
   "source": [
    "import pandas as pd\n",
    "\n",
    "summary_table = pd.DataFrame(results, columns = [\"Method\", \"TimeIt\"])\n",
    "summary_table['time (microsec)'] = summary_table['TimeIt'].apply(lambda x: round(x.best*10**6))\n",
    "summary_table['num trials'] = summary_table['TimeIt'].apply(lambda x: x.loops)\n",
    "\n",
    "to_show = summary_table[['Method','time (microsec)','num trials']].sort_values(by='time (microsec)')\n",
    "to_show"
   ]
  },
  {
   "cell_type": "code",
   "execution_count": 226,
   "metadata": {
    "collapsed": false
   },
   "outputs": [
    {
     "data": {
      "text/html": [
       "\n",
       "<style>\n",
       ".dataframe table{\n",
       "    display:block;\n",
       "    min-width: 600 px;\n",
       "    margin-left: auto;\n",
       "    margin-right: auto;\n",
       "}\n",
       ".dataframe thead{\n",
       "    background-color: #efefef;\n",
       "}\n",
       ".dataframe tr:nth-child(even) {\n",
       "   background-color: #9df;\n",
       "}\n",
       "\n",
       "</style>\n"
      ],
      "text/plain": [
       "<IPython.core.display.HTML object>"
      ]
     },
     "metadata": {},
     "output_type": "display_data"
    },
    {
     "data": {
      "text/html": [
       "<div>\n",
       "<table border=\"1\" class=\"dataframe\">\n",
       "  <thead>\n",
       "    <tr style=\"text-align: right;\">\n",
       "      <th></th>\n",
       "      <th>Method</th>\n",
       "      <th>time (microsec)</th>\n",
       "      <th>num trials</th>\n",
       "    </tr>\n",
       "  </thead>\n",
       "  <tbody>\n",
       "    <tr>\n",
       "      <th>3</th>\n",
       "      <td>manual</td>\n",
       "      <td>9.0</td>\n",
       "      <td>100000</td>\n",
       "    </tr>\n",
       "    <tr>\n",
       "      <th>2</th>\n",
       "      <td>strptime</td>\n",
       "      <td>32.0</td>\n",
       "      <td>10000</td>\n",
       "    </tr>\n",
       "    <tr>\n",
       "      <th>1</th>\n",
       "      <td>dateutil.parser preprocessed</td>\n",
       "      <td>283.0</td>\n",
       "      <td>1000</td>\n",
       "    </tr>\n",
       "    <tr>\n",
       "      <th>0</th>\n",
       "      <td>dateutil.parser raw</td>\n",
       "      <td>299.0</td>\n",
       "      <td>1000</td>\n",
       "    </tr>\n",
       "  </tbody>\n",
       "</table>\n",
       "</div>"
      ],
      "text/plain": [
       "                         Method  time (microsec)  num trials\n",
       "3                        manual              9.0      100000\n",
       "2                      strptime             32.0       10000\n",
       "1  dateutil.parser preprocessed            283.0        1000\n",
       "0           dateutil.parser raw            299.0        1000"
      ]
     },
     "metadata": {},
     "output_type": "display_data"
    }
   ],
   "source": [
    "# pandas keeps changing the css and styling options, so this is here\n",
    "# for a prettier version, but the previous cell guarantees we will get\n",
    "# a result\n",
    "from IPython.core.display import display,HTML\n",
    "s= \"\"\"\n",
    "<style>\n",
    ".dataframe table{\n",
    "    display:block;\n",
    "    margin-left: auto;\n",
    "    margin-right: auto;\n",
    "}\n",
    ".dataframe thead{\n",
    "    background-color: #efefef;\n",
    "}\n",
    ".dataframe tr:nth-child(even) {\n",
    "   background-color: #9df;\n",
    "}\n",
    "\n",
    "</style>\n",
    "\"\"\"\n",
    "\n",
    "display(HTML(s))\n",
    "display(to_show)"
   ]
  },
  {
   "cell_type": "code",
   "execution_count": null,
   "metadata": {
    "collapsed": true
   },
   "outputs": [],
   "source": []
  }
 ],
 "metadata": {
  "kernelspec": {
   "display_name": "Python 2",
   "language": "python",
   "name": "python2"
  },
  "language_info": {
   "codemirror_mode": {
    "name": "ipython",
    "version": 2
   },
   "file_extension": ".py",
   "mimetype": "text/x-python",
   "name": "python",
   "nbconvert_exporter": "python",
   "pygments_lexer": "ipython2",
   "version": "2.7.12"
  }
 },
 "nbformat": 4,
 "nbformat_minor": 2
}
